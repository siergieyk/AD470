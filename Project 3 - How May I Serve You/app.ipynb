{
 "cells": [
  {
   "cell_type": "markdown",
   "metadata": {},
   "source": [
    "Table of content"
   ]
  },
  {
   "cell_type": "markdown",
   "metadata": {},
   "source": [
    "1. Intro: Please talk about the project, that it's python based chatbot with flask front-end and python back-end.\n",
    "2. Please talk baout the chatterbot libraries.\n",
    "3. Mention a sentence or two about each element below.\n"
   ]
  },
  {
   "cell_type": "markdown",
   "metadata": {},
   "source": [
    "Back-End"
   ]
  },
  {
   "cell_type": "markdown",
   "metadata": {},
   "source": [
    "imports"
   ]
  },
  {
   "cell_type": "code",
   "execution_count": null,
   "metadata": {},
   "outputs": [],
   "source": [
    "from flask import Flask, render_template, request\n",
    "from chatterbot import ChatBot\n",
    "from chatterbot.trainers import ChatterBotCorpusTrainer\n",
    "from chatterbot.trainers import ListTrainer"
   ]
  },
  {
   "cell_type": "code",
   "execution_count": null,
   "metadata": {},
   "outputs": [],
   "source": [
    "flask module"
   ]
  },
  {
   "cell_type": "code",
   "execution_count": null,
   "metadata": {},
   "outputs": [],
   "source": [
    "app = Flask(__name__)\n",
    "\n",
    "bot = ChatBot(\"Echo\")"
   ]
  },
  {
   "cell_type": "markdown",
   "metadata": {},
   "source": [
    "Chatterbot module"
   ]
  },
  {
   "cell_type": "code",
   "execution_count": null,
   "metadata": {},
   "outputs": [],
   "source": [
    "trainer = ListTrainer(bot)\n",
    "trainer.train(['what is your name?', 'My name is Echo'])\n",
    "trainer.train(['who are you?', 'I am a BOT'])\n",
    "\n",
    "trainer = ChatterBotCorpusTrainer(bot)\n",
    "trainer.train(\"chatterbot.corpus.english\")"
   ]
  },
  {
   "cell_type": "markdown",
   "metadata": {},
   "source": [
    "Routs for the front-end"
   ]
  },
  {
   "cell_type": "markdown",
   "metadata": {},
   "source": [
    "Here is the index.html file, that is located in the temapltes folder (templates/index.html).\n",
    "This code is only for demostrational purposes, to have all the information in the one notebook."
   ]
  },
  {
   "cell_type": "markdown",
   "metadata": {},
   "source": [
    "Please don't run this code, since it is not python code."
   ]
  },
  {
   "cell_type": "code",
   "execution_count": null,
   "metadata": {},
   "outputs": [],
   "source": [
    "<!DOCTYPE html>\n",
    "<html>\n",
    "<head>\n",
    " <title>ChatterBot - Python based Chat-Bot</title>\n",
    " <meta name=\"viewport\" content=\"width=device-width, initial-scale=1\">\n",
    " <script src=\"https://ajax.googleapis.com/ajax/libs/jquery/3.2.1/jquery.min.js\"></script>\n",
    " <style>\n",
    " * {\n",
    " box-sizing: border-box\n",
    " }/* Set height of body and the document to 100% */\n",
    " body, html {\n",
    " height: 100%;\n",
    " margin: 0;\n",
    " font-family: Arial;\n",
    " }\n",
    " #chatbox {\n",
    " margin-left: auto;\n",
    " margin-right: auto;\n",
    " width: 40%;\n",
    " margin-top: 60px;\n",
    " \n",
    " }\n",
    " #userInput {\n",
    " margin-left: auto;\n",
    " margin-right: auto;\n",
    " width: 40%;\n",
    " margin-top: 60px;\n",
    " margin-bottom: 60px;\n",
    " }\n",
    " #textInput {\n",
    " width: 90%;\n",
    " border: none;\n",
    " border-bottom: 3px solid black;\n",
    " font-family: monospace;\n",
    " font-size: 17px;\n",
    " }\n",
    " .userText {\n",
    " color: white;\n",
    " font-family: monospace;\n",
    " font-size: 17px;\n",
    " text-align: right;\n",
    " line-height: 30px;\n",
    " }\n",
    " .userText span {\n",
    " background-color: #808080;\n",
    " padding: 10px;\n",
    " border-radius: 2px;\n",
    " }\n",
    " .botText {\n",
    " color: white;\n",
    " font-family: monospace;\n",
    " font-size: 17px;\n",
    " text-align: left;\n",
    " line-height: 30px;\n",
    " }\n",
    " .botText span {\n",
    " background-color: #4169e1;\n",
    " padding: 10px;\n",
    " border-radius: 2px;\n",
    " }\n",
    " #tidbit {\n",
    " position: absolute;\n",
    " bottom: 0;\n",
    " right: 0;\n",
    " width: 300px;\n",
    " }\n",
    " .boxed {\n",
    " margin-left: auto;\n",
    " margin-right: auto;\n",
    " width: 78%;\n",
    " margin-top: 60px;\n",
    " border: 1px solid green;\n",
    " margin-bottom: 60px;\n",
    " }\n",
    "\n",
    "     \n",
    "     \n",
    " </style>\n",
    "</head>\n",
    "<body><div>\n",
    " <h1 align=\"center\"><b>Echo</b></h1>\n",
    " <h1 align=\"center\"><b>ChatterBot based Chat-Bot</b></h1>\n",
    " <h4 align=\"center\"><b>Your one stop destination for all your needs</b></h4>\n",
    " <p align=\"center\"><img src=\"ai.png\" alt=\"Python-BOT\" height=\"210\" ></p>\n",
    " <div class=\"boxed\">\n",
    " <div>\n",
    " <div id=\"chatbox\">\n",
    " <p class=\"botText\">\n",
    " <span>Hi! I'm Echo your personal ChatBot</span>  \n",
    " </p>  \n",
    " <p class=\"botText\">\n",
    " <span>How may I serve you?</span>  \n",
    " </p>\n",
    "     \n",
    "     \n",
    " </div>\n",
    " <div id=\"userInput\">\n",
    " <input id=\"textInput\" type=\"text\" name=\"msg\" placeholder=\"Message\" />\n",
    " </div>\n",
    " </div>\n",
    " <script>\n",
    " function getBotResponse() {\n",
    " var rawText = $(\"#textInput\").val();\n",
    " var userHtml = '<p class=\"userText\"><span>' + rawText + \"</span></p>\";\n",
    " $(\"#textInput\").val(\"\");\n",
    " $(\"#chatbox\").append(userHtml);\n",
    " document\n",
    " .getElementById(\"userInput\")\n",
    " .scrollIntoView({ block: \"start\", behavior: \"smooth\" });\n",
    " $.get(\"/get\", { msg: rawText }).done(function (data) {\n",
    " var botHtml = '<p class=\"botText\"><span>' + data + \"</span></p>\";\n",
    " $(\"#chatbox\").append(botHtml);\n",
    " document\n",
    " .getElementById(\"userInput\")\n",
    " .scrollIntoView({ block: \"start\", behavior: \"smooth\" });\n",
    " });\n",
    " }\n",
    " $(\"#textInput\").keypress(function (e) {\n",
    " if (e.which == 13) {\n",
    " getBotResponse();\n",
    " }\n",
    " });\n",
    " </script>\n",
    " </div>\n",
    " </div>\n",
    "</body>\n",
    "</html>"
   ]
  }
 ],
 "metadata": {
  "kernelspec": {
   "display_name": "Python 3",
   "language": "python",
   "name": "python3"
  },
  "language_info": {
   "codemirror_mode": {
    "name": "ipython",
    "version": 3
   },
   "file_extension": ".py",
   "mimetype": "text/x-python",
   "name": "python",
   "nbconvert_exporter": "python",
   "pygments_lexer": "ipython3",
   "version": "3.7.4"
  }
 },
 "nbformat": 4,
 "nbformat_minor": 2
}
