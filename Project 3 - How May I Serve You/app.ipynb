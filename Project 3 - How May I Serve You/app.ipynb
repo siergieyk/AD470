{
  "cells": [
    {
      "metadata": {},
      "cell_type": "markdown",
      "source": "## How May I Serve You\n## Table of Content:\n**1. [Project description](#section1)**\n\n**2. [Data acquisition](#section2)**\n* **2.1 [Package import](#section2.1)** \n* **2.2 [Chader Module](#section2.2)**\n* **2.3 [Routes for the front-end](#section2.3)** \n\n\n"
    },
    {
      "metadata": {},
      "cell_type": "markdown",
      "source": "# <b>How May I Serve You</b>\n\n<b>1. Project description</b>\n<a id=\"section1\"></a>\n\nIn this assignemnt we trained and tested a predictive model using a dataset, that can generate text in response to input. \nChatterBot includes tools that help simplify the process of training a chat bot instance. ChatterBot's training process involves loading example dialog into the chat bot's database. This either creates or builds upon the graph data structure that represents the sets of known statements and responses. When a chat bot trainer is provided with a data set, it creates the necessary entries in the chat bot's knowledge graph so that the statement inputs and responses are correctly represented."
    },
    {
      "metadata": {},
      "cell_type": "markdown",
      "source": "<b>2. Data acquisition</b>\n<a id=\"section2\"></a>"
    },
    {
      "metadata": {},
      "cell_type": "markdown",
      "source": "<b>2.1</b> Import packages\n<a id=\"section2.1\"></a>"
    },
    {
      "metadata": {
        "trusted": false
      },
      "cell_type": "code",
      "source": "from flask import Flask, render_template, request\nfrom chatterbot import ChatBot\nfrom chatterbot.trainers import ChatterBotCorpusTrainer\nfrom chatterbot.trainers import ListTrainer",
      "execution_count": null,
      "outputs": []
    },
    {
      "metadata": {
        "trusted": false
      },
      "cell_type": "code",
      "source": "flask module\n#Flask is a Python web framework built with a small core and easy-to-extend philosophy.",
      "execution_count": null,
      "outputs": []
    },
    {
      "metadata": {
        "trusted": false
      },
      "cell_type": "code",
      "source": "app = Flask(__name__)\n\nbot = ChatBot(\"Echo\")",
      "execution_count": null,
      "outputs": []
    },
    {
      "metadata": {},
      "cell_type": "markdown",
      "source": "<b>2.2</b> Chader Module\n<a id=\"section2.2\"></a>"
    },
    {
      "metadata": {
        "trusted": false
      },
      "cell_type": "code",
      "source": "#ChatterBot comes with a corpus data and utility module that makes it easy to \n#quickly train our bot to communicate. \n#To do so, we simply specify the corpus data modules.\ntrainer = ListTrainer(bot)\ntrainer.train(['what is your name?', 'My name is Echo'])\ntrainer.train(['who are you?', 'I am a BOT'])\n#Allows the chat bot to be trained using data from the ChatterBot dialog corpus in eng.\ntrainer = ChatterBotCorpusTrainer(bot)\ntrainer.train(\"chatterbot.corpus.english\")",
      "execution_count": null,
      "outputs": []
    },
    {
      "metadata": {},
      "cell_type": "markdown",
      "source": "<b>2.3</b> Routes for the front-end.\n<a id=\"section2.3\"></a>"
    },
    {
      "metadata": {},
      "cell_type": "markdown",
      "source": "Here is the index.html file, that is located in the temapltes folder (templates/index.html).\nThis code is only for demostrational purposes, to have all the information in the one notebook."
    },
    {
      "metadata": {},
      "cell_type": "markdown",
      "source": "Please don't run this code, since it is not python code."
    },
    {
      "metadata": {
        "trusted": false
      },
      "cell_type": "code",
      "source": "<!DOCTYPE html>\n<html>\n<head>\n <title>ChatterBot - Python based Chat-Bot</title>\n <meta name=\"viewport\" content=\"width=device-width, initial-scale=1\">\n <script src=\"https://ajax.googleapis.com/ajax/libs/jquery/3.2.1/jquery.min.js\"></script>\n <style>\n * {\n box-sizing: border-box\n }/* Set height of body and the document to 100% */\n body, html {\n height: 100%;\n margin: 0;\n font-family: Arial;\n }\n #chatbox styling {\n margin-left: auto;\n margin-right: auto;\n width: 40%;\n margin-top: 60px;\n \n }\n #userInput textbox styling{\n margin-left: auto;\n margin-right: auto;\n width: 40%;\n margin-top: 60px;\n margin-bottom: 60px;\n }\n #textInput {\n width: 90%;\n border: none;\n border-bottom: 3px solid black;\n font-family: monospace;\n font-size: 17px;\n }\n .userText {\n color: white;\n font-family: monospace;\n font-size: 17px;\n text-align: right;\n line-height: 30px;\n }\n .userText span {\n background-color: #808080;\n padding: 10px;\n border-radius: 2px;\n }\n .botText {\n color: white;\n font-family: monospace;\n font-size: 17px;\n text-align: left;\n line-height: 30px;\n }\n .botText span {\n background-color: #4169e1;\n padding: 10px;\n border-radius: 2px;\n }\n #tidbit {\n position: absolute;\n bottom: 0;\n right: 0;\n width: 300px;\n }\n .boxed {\n margin-left: auto;\n margin-right: auto;\n width: 78%;\n margin-top: 60px;\n border: 1px solid green;\n margin-bottom: 60px;\n }\n\n     \n     \n </style>\n</head>\n\n<body><div>\n <h1 align=\"center\"><b>Echo</b></h1>\n <h1 align=\"center\"><b>ChatterBot based Chat-Bot</b></h1>\n <h4 align=\"center\"><b>Your one stop destination for all your needs</b></h4>\n#header text with image of our chatbox robot \n<p align=\"center\"><img src=\"ai.png\" alt=\"Python-BOT\" height=\"210\" ></p>\n <div class=\"boxed\">\n <div>\n\n#text generated from our chatbox robot to greet our user\n <div id=\"chatbox\">\n <p class=\"botText\">\n <span>Hi! I'm Echo your personal ChatBot</span>  \n </p>  \n <p class=\"botText\">\n <span>How may I serve you?</span>  \n </p>\n     \n     \n </div>\n <div id=\"userInput\">\n <input id=\"textInput\" type=\"text\" name=\"msg\" placeholder=\"Message\" />\n </div>\n </div>\n#js script to take user input and generate a response after user clicks enter to send message.\n <script>\n function getBotResponse() {\n var rawText = $(\"#textInput\").val();\n var userHtml = '<p class=\"userText\"><span>' + rawText + \"</span></p>\";\n $(\"#textInput\").val(\"\");\n $(\"#chatbox\").append(userHtml);\n document\n .getElementById(\"userInput\")\n .scrollIntoView({ block: \"start\", behavior: \"smooth\" });\n $.get(\"/get\", { msg: rawText }).done(function (data) {\n var botHtml = '<p class=\"botText\"><span>' + data + \"</span></p>\";\n $(\"#chatbox\").append(botHtml);\n document\n .getElementById(\"userInput\")\n .scrollIntoView({ block: \"start\", behavior: \"smooth\" });\n });\n }\n $(\"#textInput\").keypress(function (e) {\n if (e.which == 13) {\n getBotResponse();\n }\n });\n </script>\n </div>\n </div>\n</body>\n</html>",
      "execution_count": null,
      "outputs": []
    }
  ],
  "metadata": {
    "kernelspec": {
      "name": "python3",
      "display_name": "Python 3",
      "language": "python"
    },
    "language_info": {
      "mimetype": "text/x-python",
      "nbconvert_exporter": "python",
      "name": "python",
      "file_extension": ".py",
      "version": "3.5.4",
      "pygments_lexer": "ipython3",
      "codemirror_mode": {
        "version": 3,
        "name": "ipython"
      }
    }
  },
  "nbformat": 4,
  "nbformat_minor": 2
}